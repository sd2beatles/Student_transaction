{
 "cells": [
  {
   "cell_type": "code",
   "execution_count": 1,
   "id": "ca913bd0",
   "metadata": {},
   "outputs": [],
   "source": [
    "import pyspark\n",
    "from pyspark import SparkConf\n",
    "from pyspark.context import SparkContext\n",
    "from pyspark.sql import SparkSession\n",
    "from pyspark.sql import functions as F\n",
    "import os\n",
    "import pandas as pd"
   ]
  },
  {
   "cell_type": "code",
   "execution_count": 2,
   "id": "c9889e7d",
   "metadata": {},
   "outputs": [],
   "source": [
    "spark=SparkSession\\\n",
    ".builder\\\n",
    ".appName(\"transaction\")\\\n",
    ".getOrCreate()"
   ]
  },
  {
   "cell_type": "markdown",
   "id": "48032d0a",
   "metadata": {},
   "source": [
    "## 1. Loading Data \n",
    "\n",
    "### 1.1 Transaction Records\n",
    "\n",
    "Prepare a merged table for all the transacitons records in the assigned folder"
   ]
  },
  {
   "cell_type": "code",
   "execution_count": 3,
   "id": "eea0503d",
   "metadata": {},
   "outputs": [],
   "source": [
    "from pyspark.sql.types import StructType,StructField,StringType,DoubleType,BooleanType,IntegerType\n",
    "\n",
    "#create schema\n",
    "schema=StructType([\n",
    "    StructField(\"user_id\",StringType(),False),\n",
    "    StructField(\"short_session\",StringType(),True),\n",
    "    StructField(\"long_session\",StringType(),True),\n",
    "    StructField(\"url\",StringType(),True),\n",
    "    StructField(\"path\",StringType(),True),\n",
    "    StructField(\"action\",StringType(),True),\n",
    "    StructField(\"amount\",DoubleType(),True),\n",
    "    StructField(\"product_code\",StringType(),True),\n",
    "    StructField(\"time_stamp\",StringType(),True),\n",
    "])\n",
    "\n",
    "#create empty dataframe with schema\n",
    "emptyRDD=spark.sparkContext.emptyRDD()\n",
    "trans_merged=spark.createDataFrame(emptyRDD,schema)\n",
    "\n",
    "\n",
    "#load all the data and merge them into one dataframe\n",
    "transaction_path=r\"D:\\academic\\academic_record\\acamedic_record\\generator\\output_storage\"\n",
    "for folder in os.listdir(transaction_path):\n",
    "    full_=os.path.join(transaction_path,folder,'transaction.parquet')\n",
    "    df=spark.read.format('parquet').load(full_)\n",
    "    df=(df.select(\"*\",F.col(\"transaction.amount\").alias(\"amount\"),F.col(\"transaction.product_code\").alias(\"product_code\"),\n",
    "                  F.col(\"transaction.time_stamp\").alias(\"time_stamp\")).drop(\"transaction\"))\n",
    "    #append the loaded dataframe to the merged datframe\n",
    "    trans_merged=trans_merged.unionAll(df)\n",
    "\n",
    "del df"
   ]
  },
  {
   "cell_type": "markdown",
   "id": "cb5a372a",
   "metadata": {},
   "source": [
    "### 1.2  Student Personal Information "
   ]
  },
  {
   "cell_type": "code",
   "execution_count": 4,
   "id": "71ed25cf",
   "metadata": {},
   "outputs": [],
   "source": [
    "info_path=r\"D:\\academic\\academic_record\\acamedic_record\\generator\\input_storage\"\n",
    "os.chdir(info_path)\n",
    "\n",
    "#Prepare a merged table for all the student informations in the assigned folder\n",
    "#define the schema for transcation table\n",
    "#discarding unrelevant infomration \n",
    "info_schema=StructType(\n",
    "    [\n",
    "        StructField(\"user_id\",StringType(),False),\n",
    "        StructField(\"sex\",StringType(),False),\n",
    "        StructField(\"grade\",StringType(),True),\n",
    "        StructField('weekly_study_hours',DoubleType(),True),\n",
    "        StructField(\"daily_study_hours\",DoubleType(),True),\n",
    "        StructField(\"is_online\",IntegerType(),True),\n",
    "        StructField(\"off_line_numbers\",IntegerType(),True),\n",
    "        StructField(\"satisfaction_last\",IntegerType(),True),\n",
    "        StructField(\"no_interest\",IntegerType(),True),\n",
    "        StructField(\"no_prize\",IntegerType(),True),\n",
    "        StructField(\"no_competitions\",IntegerType(),True),\n",
    "        StructField(\"age\",IntegerType(),True),\n",
    "        StructField(\"register_date\",StringType(),False)\n",
    "        ]\n",
    ")\n",
    "\n",
    "\n",
    "info_merged=spark.createDataFrame(emptyRDD,info_schema)\n",
    "for file in os.listdir(info_path):\n",
    "    full_path=os.path.join(info_path,file,'student_info_temp.json')\n",
    "    temp=spark.read.option(\"multiline\",True).json(full_path)\n",
    "    temp=temp.select(\"user_id\",\"sex\",\"grade\",\"weekly_study_hours\",\"daily_study_hours\",\n",
    "                    \"is_online\",\"off_line_numbers\",\"satisfaction_last\",\"no_interest\",\"no_prizes\",\n",
    "                    \"no_competitions\",\"age\",\"register_date\")\n",
    "    \n",
    "    info_merged=info_merged.unionAll(temp)\n",
    "    \n",
    "del temp\n",
    "\n",
    "\n",
    "    "
   ]
  },
  {
   "cell_type": "markdown",
   "id": "15f3bd4c",
   "metadata": {},
   "source": [
    "### 1.3 Login  Records"
   ]
  },
  {
   "cell_type": "code",
   "execution_count": 5,
   "id": "2c59332c",
   "metadata": {},
   "outputs": [],
   "source": [
    "study_hour_path=r\"D:\\academic\\academic_record\\acamedic_record\\generator\\study_hours_output\"\n",
    "os.chdir(study_hour_path)\n",
    "\n",
    "login_schema=StructType(\n",
    "    [\n",
    "        StructField('id',StringType(),False),\n",
    "        StructField(\"login_timestamp\",StringType(),False),\n",
    "        StructField(\"logout_timestamp\",StringType(),False),\n",
    "        StructField(\"device\",StringType(),True)\n",
    "    ]\n",
    ")\n",
    "\n",
    "login_merged=spark.createDataFrame(emptyRDD,login_schema)\n",
    "\n",
    "for file in os.listdir(study_hour_path):\n",
    "    full_path=os.path.join(study_hour_path,file,'study_hours.parquet')\n",
    "    temp=spark.read.format('parquet').load(full_path)\n",
    "    login_merged=login_merged.unionAll(temp)\n",
    "\n",
    "del temp\n",
    "#ogin_merged=spark.createDataFrame(emptyRDD,)"
   ]
  },
  {
   "cell_type": "code",
   "execution_count": 6,
   "id": "dc2e6317",
   "metadata": {},
   "outputs": [],
   "source": [
    "#chnage the column name for the later use\n",
    "login_merged=login_merged.withColumnRenamed('id','user_id')"
   ]
  },
  {
   "cell_type": "markdown",
   "id": "21b35d1b",
   "metadata": {},
   "source": [
    "### 2 Preprocessing ( Padding leading zero)"
   ]
  },
  {
   "cell_type": "code",
   "execution_count": 7,
   "id": "74d54a1f",
   "metadata": {},
   "outputs": [],
   "source": [
    "year_month_date=F.split(F.split(F.col(\"register_date\"),':')[0],'-')\n",
    "\n",
    "#padding the leading zero \n",
    "year,month,day=year_month_date[0],year_month_date[1],year_month_date[2]\n",
    "day=F.when(F.length(day)>1,day).otherwise(F.lpad(day,2,'0'))\n",
    "month=F.when(F.length(month)>1,month).otherwise(F.lpad(month,2,'0'))\n",
    "\n",
    "\n",
    "info_merged=info_merged.withColumn('register_date',F.concat_ws('-',year,month,day))"
   ]
  },
  {
   "cell_type": "markdown",
   "id": "5ad6b407",
   "metadata": {},
   "source": [
    "### "
   ]
  },
  {
   "cell_type": "markdown",
   "id": "283bd177",
   "metadata": {},
   "source": [
    "### 3. Merge Data"
   ]
  },
  {
   "cell_type": "code",
   "execution_count": 8,
   "id": "2b53ba1a",
   "metadata": {},
   "outputs": [],
   "source": [
    "# merge two data sets together\n",
    "merged_tb=trans_merged.join(info_merged,how='left',on='user_id').join(login_merged,how='left',on='user_id')"
   ]
  },
  {
   "cell_type": "code",
   "execution_count": 9,
   "id": "2019a038",
   "metadata": {},
   "outputs": [],
   "source": [
    "merged_tb.createOrReplaceTempView(\"merged\")"
   ]
  },
  {
   "cell_type": "code",
   "execution_count": 10,
   "id": "063e4096",
   "metadata": {},
   "outputs": [],
   "source": [
    "def print_(query,toPD=False):\n",
    "    if toPD:\n",
    "        return spark.sql(query).toPandas()\n",
    "    return spark.sql(query).show()\n",
    "    "
   ]
  },
  {
   "cell_type": "code",
   "execution_count": 11,
   "id": "ceb72270",
   "metadata": {},
   "outputs": [
    {
     "name": "stdout",
     "output_type": "stream",
     "text": [
      "root\n",
      " |-- user_id: string (nullable = true)\n",
      " |-- short_session: string (nullable = true)\n",
      " |-- long_session: string (nullable = true)\n",
      " |-- url: string (nullable = true)\n",
      " |-- path: string (nullable = true)\n",
      " |-- action: string (nullable = true)\n",
      " |-- amount: double (nullable = true)\n",
      " |-- product_code: string (nullable = true)\n",
      " |-- time_stamp: string (nullable = true)\n",
      " |-- sex: string (nullable = true)\n",
      " |-- grade: string (nullable = true)\n",
      " |-- weekly_study_hours: double (nullable = true)\n",
      " |-- daily_study_hours: double (nullable = true)\n",
      " |-- is_online: long (nullable = true)\n",
      " |-- off_line_numbers: long (nullable = true)\n",
      " |-- satisfaction_last: long (nullable = true)\n",
      " |-- no_interest: long (nullable = true)\n",
      " |-- no_prize: long (nullable = true)\n",
      " |-- no_competitions: long (nullable = true)\n",
      " |-- age: long (nullable = true)\n",
      " |-- register_date: string (nullable = true)\n",
      " |-- login_timestamp: string (nullable = true)\n",
      " |-- logout_timestamp: string (nullable = true)\n",
      " |-- device: string (nullable = true)\n",
      "\n"
     ]
    }
   ],
   "source": [
    "merged_tb.printSchema()"
   ]
  },
  {
   "cell_type": "markdown",
   "id": "55b6072a",
   "metadata": {},
   "source": [
    "### 4 Digital Marketing Analysis"
   ]
  },
  {
   "cell_type": "markdown",
   "id": "d5e447c4",
   "metadata": {},
   "source": [
    "### 4.1 Registration Students Trend\n",
    "\n",
    "\n",
    "<b>English</b>\n",
    "\n",
    "A high number of new members comes for every January of the year. The registration number is highly affected by the unique consumer behavior( i.e., \"new year resolution\") this month of the year.  The effect is demonstrated through our result bleow. \n",
    "\n",
    "<b>Korean</b>\n",
    "\n",
    "매년 일월달이 학생들이 회원가입을 많이 하는 시기입니다. 아무래도 새해의 의지를 다질 겸, 학생 수가 증가하는 것은 일반적인 흐름인거 같습니다. 이러한 경향은 아래에 주어질 결과에서도 확인할 수 있습니다. \n"
   ]
  },
  {
   "cell_type": "code",
   "execution_count": 12,
   "id": "d7902460",
   "metadata": {
    "scrolled": true
   },
   "outputs": [
    {
     "name": "stdout",
     "output_type": "stream",
     "text": [
      "+----------+---------------+--------------+------------------+\n",
      "|year_month|register_counts|previous_month|monthly_over_ratio|\n",
      "+----------+---------------+--------------+------------------+\n",
      "|   2022-01|           1010|          null|              null|\n",
      "|   2022-03|            992|          1010| 98.21782178217822|\n",
      "+----------+---------------+--------------+------------------+\n",
      "\n"
     ]
    }
   ],
   "source": [
    "query='''\n",
    "WITH year_month AS(\n",
    "    SELECT user_id,\n",
    "           SUBSTRING(register_date,1,7) AS year_month\n",
    "           FROM merged)\n",
    "    SELECT year_month,\n",
    "           COUNT(DISTINCT user_id) AS register_counts,\n",
    "           LAG(COUNT(DISTINCT user_id)) OVER(ORDER BY year_month) AS previous_month,\n",
    "           COUNT(DISTINCT user_id)/LAG(COUNT(DISTINCT user_id)) OVER(ORDER BY year_month)*100 AS monthly_over_ratio\n",
    "           FROM year_month\n",
    "           GROUP BY year_month\n",
    "        \n",
    "'''\n",
    "\n",
    "print_(query)"
   ]
  },
  {
   "cell_type": "markdown",
   "id": "4e679372",
   "metadata": {},
   "source": [
    "## 4.2 Repeat Rate\n"
   ]
  },
  {
   "cell_type": "code",
   "execution_count": 13,
   "id": "5c689dd6",
   "metadata": {},
   "outputs": [
    {
     "name": "stdout",
     "output_type": "stream",
     "text": [
      "root\n",
      " |-- user_id: string (nullable = true)\n",
      " |-- short_session: string (nullable = true)\n",
      " |-- long_session: string (nullable = true)\n",
      " |-- url: string (nullable = true)\n",
      " |-- path: string (nullable = true)\n",
      " |-- action: string (nullable = true)\n",
      " |-- amount: double (nullable = true)\n",
      " |-- product_code: string (nullable = true)\n",
      " |-- time_stamp: string (nullable = true)\n",
      " |-- sex: string (nullable = true)\n",
      " |-- grade: string (nullable = true)\n",
      " |-- weekly_study_hours: double (nullable = true)\n",
      " |-- daily_study_hours: double (nullable = true)\n",
      " |-- is_online: long (nullable = true)\n",
      " |-- off_line_numbers: long (nullable = true)\n",
      " |-- satisfaction_last: long (nullable = true)\n",
      " |-- no_interest: long (nullable = true)\n",
      " |-- no_prize: long (nullable = true)\n",
      " |-- no_competitions: long (nullable = true)\n",
      " |-- age: long (nullable = true)\n",
      " |-- register_date: string (nullable = true)\n",
      " |-- login_timestamp: string (nullable = true)\n",
      " |-- logout_timestamp: string (nullable = true)\n",
      " |-- device: string (nullable = true)\n",
      "\n"
     ]
    }
   ],
   "source": [
    "merged_tb.printSchema()"
   ]
  },
  {
   "cell_type": "code",
   "execution_count": 14,
   "id": "0a97ff0e",
   "metadata": {},
   "outputs": [],
   "source": [
    "query='''\n",
    "WITH  schedule(interval,day) AS(\n",
    "    SELECT '01-Day-repeat' as interval,1 \n",
    "    UNION ALL SELECT '02-Day-repeat', 2 \n",
    "    UNION ALL SELECT '03-Day-repeat', 3 \n",
    "    UNION ALL SELECT '04-Day-repeat', 4 \n",
    "    UNION ALL SELECT '05-Day-repeat', 5 \n",
    "    UNION ALL SELECT '06-Day-repeat',6 \n",
    "    UNION ALL SELECT '07-Day-repeat',7)\n",
    ",action_record AS(\n",
    "    SELECT m.user_id,\n",
    "           m.register_date,\n",
    "           SUBSTRING(m.login_timestamp,1,10) AS login_date,\n",
    "           MAX(SUBSTRING(m.login_timestamp,1,10)) OVER() AS latest_date,\n",
    "           DATE_ADD(CAST(SUBSTRING(m.register_date,1,10) AS DATE),s.day) AS index_date,\n",
    "           s.interval AS index_name\n",
    "    FROM merged AS m\n",
    "    CROSS JOIN schedule AS s)\n",
    ",action_flag AS(\n",
    " SELECT user_id,\n",
    "        register_date,\n",
    "        index_name,\n",
    "        index_date,\n",
    "        SIGN(SUM(CASE WHEN index_date<=latest_date THEN\n",
    "        CASE WHEN index_date=login_date THEN 1 ELSE 0 END END)) AS index_date_action\n",
    "        FROM action_record\n",
    "        GROUP BY user_id,register_date,index_name,index_date\n",
    "        )\n",
    "SELECT register_date,\n",
    "       index_name,\n",
    "       ROUND(AVG(100*index_date_action),2) AS repeat_rate\n",
    "    FROM action_flag \n",
    "    GROUP BY register_date,index_name\n",
    "\n",
    "'''\n",
    "repeat_rate=print_(query,toPD=True)"
   ]
  },
  {
   "cell_type": "code",
   "execution_count": 15,
   "id": "4df68d41",
   "metadata": {},
   "outputs": [
    {
     "data": {
      "text/html": [
       "<div>\n",
       "<style scoped>\n",
       "    .dataframe tbody tr th:only-of-type {\n",
       "        vertical-align: middle;\n",
       "    }\n",
       "\n",
       "    .dataframe tbody tr th {\n",
       "        vertical-align: top;\n",
       "    }\n",
       "\n",
       "    .dataframe thead th {\n",
       "        text-align: right;\n",
       "    }\n",
       "</style>\n",
       "<table border=\"1\" class=\"dataframe\">\n",
       "  <thead>\n",
       "    <tr style=\"text-align: right;\">\n",
       "      <th></th>\n",
       "      <th>01-Day-repeat</th>\n",
       "      <th>02-Day-repeat</th>\n",
       "      <th>03-Day-repeat</th>\n",
       "      <th>04-Day-repeat</th>\n",
       "      <th>05-Day-repeat</th>\n",
       "      <th>06-Day-repeat</th>\n",
       "      <th>07-Day-repeat</th>\n",
       "    </tr>\n",
       "    <tr>\n",
       "      <th>register_date</th>\n",
       "      <th></th>\n",
       "      <th></th>\n",
       "      <th></th>\n",
       "      <th></th>\n",
       "      <th></th>\n",
       "      <th></th>\n",
       "      <th></th>\n",
       "    </tr>\n",
       "  </thead>\n",
       "  <tbody>\n",
       "    <tr>\n",
       "      <th>2022-01-01</th>\n",
       "      <td>21.88%</td>\n",
       "      <td>62.5%</td>\n",
       "      <td>75.0%</td>\n",
       "      <td>84.38%</td>\n",
       "      <td>81.25%</td>\n",
       "      <td>87.5%</td>\n",
       "      <td>87.5%</td>\n",
       "    </tr>\n",
       "    <tr>\n",
       "      <th>2022-01-02</th>\n",
       "      <td>10.0%</td>\n",
       "      <td>50.0%</td>\n",
       "      <td>85.0%</td>\n",
       "      <td>90.0%</td>\n",
       "      <td>85.0%</td>\n",
       "      <td>80.0%</td>\n",
       "      <td>90.0%</td>\n",
       "    </tr>\n",
       "    <tr>\n",
       "      <th>2022-01-03</th>\n",
       "      <td>8.33%</td>\n",
       "      <td>61.11%</td>\n",
       "      <td>77.78%</td>\n",
       "      <td>83.33%</td>\n",
       "      <td>83.33%</td>\n",
       "      <td>88.89%</td>\n",
       "      <td>86.11%</td>\n",
       "    </tr>\n",
       "    <tr>\n",
       "      <th>2022-01-04</th>\n",
       "      <td>17.65%</td>\n",
       "      <td>76.47%</td>\n",
       "      <td>82.35%</td>\n",
       "      <td>82.35%</td>\n",
       "      <td>80.39%</td>\n",
       "      <td>86.27%</td>\n",
       "      <td>74.51%</td>\n",
       "    </tr>\n",
       "    <tr>\n",
       "      <th>2022-01-05</th>\n",
       "      <td>20.69%</td>\n",
       "      <td>82.76%</td>\n",
       "      <td>89.66%</td>\n",
       "      <td>72.41%</td>\n",
       "      <td>89.66%</td>\n",
       "      <td>89.66%</td>\n",
       "      <td>86.21%</td>\n",
       "    </tr>\n",
       "  </tbody>\n",
       "</table>\n",
       "</div>"
      ],
      "text/plain": [
       "              01-Day-repeat 02-Day-repeat 03-Day-repeat 04-Day-repeat  \\\n",
       "register_date                                                           \n",
       "2022-01-01           21.88%         62.5%         75.0%        84.38%   \n",
       "2022-01-02            10.0%         50.0%         85.0%         90.0%   \n",
       "2022-01-03            8.33%        61.11%        77.78%        83.33%   \n",
       "2022-01-04           17.65%        76.47%        82.35%        82.35%   \n",
       "2022-01-05           20.69%        82.76%        89.66%        72.41%   \n",
       "\n",
       "              05-Day-repeat 06-Day-repeat 07-Day-repeat  \n",
       "register_date                                            \n",
       "2022-01-01           81.25%         87.5%         87.5%  \n",
       "2022-01-02            85.0%         80.0%         90.0%  \n",
       "2022-01-03           83.33%        88.89%        86.11%  \n",
       "2022-01-04           80.39%        86.27%        74.51%  \n",
       "2022-01-05           89.66%        89.66%        86.21%  "
      ]
     },
     "execution_count": 15,
     "metadata": {},
     "output_type": "execute_result"
    }
   ],
   "source": [
    "repeat_table=pd.pivot_table(repeat_rate,index='register_date',columns='index_name',values='repeat_rate')\n",
    "#remove unnecessary label \n",
    "repeat_table.columns.name=None\n",
    "#present the table with all values in %\n",
    "(repeat_table.round(2).astype(str)+'%').head()"
   ]
  },
  {
   "cell_type": "code",
   "execution_count": 16,
   "id": "92052667",
   "metadata": {},
   "outputs": [
    {
     "data": {
      "text/plain": [
       "index_name\n",
       "01-Day-repeat    14.94%\n",
       "02-Day-repeat    73.44%\n",
       "03-Day-repeat    79.23%\n",
       "04-Day-repeat    80.87%\n",
       "05-Day-repeat    79.42%\n",
       "06-Day-repeat     80.2%\n",
       "07-Day-repeat    80.18%\n",
       "Name: repeat_rate, dtype: object"
      ]
     },
     "execution_count": 16,
     "metadata": {},
     "output_type": "execute_result"
    }
   ],
   "source": [
    "#average of each repeat period\n",
    "repeat_rate.groupby(\"index_name\")['repeat_rate'].mean().round(2).astype(str)+'%'"
   ]
  },
  {
   "cell_type": "markdown",
   "id": "3ff3edc0",
   "metadata": {},
   "source": [
    "\n",
    "<b>English</b>\n",
    "\n",
    "The good news is the repeat rate shows a steady increase as the number of days increases. The rate indirectly tells us that users visit our website regularly. Given 7-day periods, it is a reference point to show the intention of our users to continue using our services. However, the analysis based on the 7-day results can not   tell us a  full strocy of  consumer bevhavior.In the upcoming section, additiona analysis is called for to get an compelete undestanding. Meanwhile,If our customers are satisfied with the provision of services, we need to find what features of our platform have attracted our customers. \n",
    "\n",
    "<b>Korean</b>\n",
    "\n",
    "정해진 7일 동안,고객들의 지속률이 지속적으로 상승하는 모습을 보여줍니다. 이는 고객들이 앞으로 주기적으로 우리의 서비스이용을 지속할 것이라는 것을 이야기해줍니다. 여기서 선택된 7일은 학원 온라인 시스템에서는 중요한 지표인데,이를 통해서 고객의 행동에 대한 단기적인 시각을 가질 수 있기 때문입니다. 하지만 이 분석으로 고객의 행동에 대한 전체적인 측면을 보여주는 것이 아니므로, 중단기적인 지표가 필요할거 같습니다.\n",
    "\n",
    "\n",
    "\n"
   ]
  },
  {
   "cell_type": "markdown",
   "id": "f571524c",
   "metadata": {},
   "source": [
    "### 5. Monthly Active User( MAU)"
   ]
  },
  {
   "cell_type": "code",
   "execution_count": 93,
   "id": "c4442978",
   "metadata": {},
   "outputs": [
    {
     "data": {
      "text/html": [
       "<div>\n",
       "<style scoped>\n",
       "    .dataframe tbody tr th:only-of-type {\n",
       "        vertical-align: middle;\n",
       "    }\n",
       "\n",
       "    .dataframe tbody tr th {\n",
       "        vertical-align: top;\n",
       "    }\n",
       "\n",
       "    .dataframe thead th {\n",
       "        text-align: right;\n",
       "    }\n",
       "</style>\n",
       "<table border=\"1\" class=\"dataframe\">\n",
       "  <thead>\n",
       "    <tr style=\"text-align: right;\">\n",
       "      <th></th>\n",
       "      <th>action_month</th>\n",
       "      <th>mau</th>\n",
       "      <th>new_user</th>\n",
       "      <th>repeat_user</th>\n",
       "      <th>comback_user</th>\n",
       "      <th>new_repeat_user</th>\n",
       "      <th>continous_repeat_user</th>\n",
       "      <th>comeback_repeat_user</th>\n",
       "    </tr>\n",
       "  </thead>\n",
       "  <tbody>\n",
       "    <tr>\n",
       "      <th>0</th>\n",
       "      <td>2022-01</td>\n",
       "      <td>202313</td>\n",
       "      <td>202313</td>\n",
       "      <td>0</td>\n",
       "      <td>0</td>\n",
       "      <td>0</td>\n",
       "      <td>0</td>\n",
       "      <td>0</td>\n",
       "    </tr>\n",
       "    <tr>\n",
       "      <th>1</th>\n",
       "      <td>2022-02</td>\n",
       "      <td>681305</td>\n",
       "      <td>140201</td>\n",
       "      <td>101030</td>\n",
       "      <td>204391</td>\n",
       "      <td>68130</td>\n",
       "      <td>34065</td>\n",
       "      <td>133488</td>\n",
       "    </tr>\n",
       "    <tr>\n",
       "      <th>2</th>\n",
       "      <td>2022-03</td>\n",
       "      <td>557890</td>\n",
       "      <td>9810</td>\n",
       "      <td>95001</td>\n",
       "      <td>167367</td>\n",
       "      <td>55789</td>\n",
       "      <td>27894</td>\n",
       "      <td>202029</td>\n",
       "    </tr>\n",
       "    <tr>\n",
       "      <th>3</th>\n",
       "      <td>2022-04</td>\n",
       "      <td>447902</td>\n",
       "      <td>8810</td>\n",
       "      <td>78239</td>\n",
       "      <td>134370</td>\n",
       "      <td>44790</td>\n",
       "      <td>22395</td>\n",
       "      <td>159298</td>\n",
       "    </tr>\n",
       "  </tbody>\n",
       "</table>\n",
       "</div>"
      ],
      "text/plain": [
       "  action_month     mau  new_user  repeat_user  comback_user  new_repeat_user  \\\n",
       "0      2022-01  202313    202313            0             0                0   \n",
       "1      2022-02  681305    140201       101030        204391            68130   \n",
       "2      2022-03  557890      9810        95001        167367            55789   \n",
       "3      2022-04  447902      8810        78239        134370            44790   \n",
       "\n",
       "   continous_repeat_user  comeback_repeat_user  \n",
       "0                      0                     0  \n",
       "1                  34065                133488  \n",
       "2                  27894                202029  \n",
       "3                  22395                159298  "
      ]
     },
     "execution_count": 93,
     "metadata": {},
     "output_type": "execute_result"
    }
   ],
   "source": [
    "query='''\n",
    "WITH monthly_active_user AS(\n",
    "   SELECT distinct user_id,\n",
    "          SUBSTRING(register_date,1,7) AS register_year_month,\n",
    "          SUBSTRING(ADD_MONTHS(CAST(SUBSTRING(register_date,1,7) AS DATE),-1),1,7)  AS previous_month,\n",
    "          SUBSTRING(login_timestamp,1,7) AS action_month\n",
    "   FROM merged)\n",
    "  ,customer_types AS(\n",
    "   SELECT user_id,\n",
    "       action_month,\n",
    "       previous_month,\n",
    "       CASE WHEN register_year_month=action_month THEN 'new_user' \n",
    "         WHEN previous_month=LAG(action_month) OVER(PARTITION BY user_id ORDER BY action_month) THEN 'repeat_user'\n",
    "         ELSE 'comeback user'END AS user_type\n",
    "   FROM monthly_active_user)\n",
    "    ,monthly_users AS(\n",
    "    SELECT m2.action_month,\n",
    "           COUNT(m2.user_id) AS mau,\n",
    "           COUNT(CASE WHEN m2.user_type='new_user' THEN 1 END) AS new_users,\n",
    "           COUNT(CASE WHEN m2.user_type='repeat_user' THEN 1 END) AS repeat_user,\n",
    "           COUNT(CASE WHEN m2.user_type='comback_user' THEN 1 END) AS comeback_user,\n",
    "           COUNT(CASE WHEN m2.user_type='repeat_user' AND m1.user_type='new_user' THEN 1 END) AS new_repeat_user,\n",
    "           COUNT(CASE WHEN m2.user_type='repeat_user' AND m1.user_type='repeat_user' THEN 1 END) AS continous_repeat_user,\n",
    "           COUNT(CASE WHEN m2.user_type='repeat_user' AND m1.user_type='comeback_user' THEN 1 END) AS comeback_repeat_user\n",
    "    FROM customer_types AS m1\n",
    "    LEFT OUTER JOIN customer_types AS  m2\n",
    "    ON m1.user_id=m2.user_id AND m2.previous_month=m1.action_month\n",
    "    GROUP BY m2.action_month)\n",
    "    SELECT *\n",
    "    FROM monthly_users\n",
    "'''\n",
    "\n",
    "print(query_)"
   ]
  },
  {
   "cell_type": "markdown",
   "id": "fdc4417b",
   "metadata": {},
   "source": [
    "<b>English</b>\n",
    "\n",
    "The education industry in South Korea follows a specific pattern; a significant number of new users are at the beginning of the year and during the exam periods. This pattern is demonstrated through our results above. One concern is that the number of repeated users shows a general downstream.  The relative decrease alerts that the company should be struggling with building the strong attachment of users to the company itself.  \n",
    "\n",
    "<b>Korean</b>\n",
    "\n",
    "학교 사교육업계는 큰 특징을 가지고 있습니다. 매년 초기 그리고 내신 기간에 새로운 고객의 유입이 이루어집니다.이러한 패턴은 위에 \n",
    "나온 결과물을 통해서 다시한번 확일 할 수 있습니다. 다만 반복고객이 시간에 흐름에 따라 떨어지고 있다는 점은 우려할 점 입니다. 주로, \n",
    "하향추세가 나오는 것은 학원이 새로운 또는 기존 고객들의 충성심을 제대로 확보하고 있지 않다는 점을 암시해줍니다. \n",
    "\n"
   ]
  },
  {
   "cell_type": "markdown",
   "id": "aae9a842",
   "metadata": {},
   "source": [
    "### 4.  Rentation Rate\n"
   ]
  },
  {
   "cell_type": "code",
   "execution_count": 85,
   "id": "3d901246",
   "metadata": {},
   "outputs": [
    {
     "data": {
      "text/html": [
       "<div>\n",
       "<style scoped>\n",
       "    .dataframe tbody tr th:only-of-type {\n",
       "        vertical-align: middle;\n",
       "    }\n",
       "\n",
       "    .dataframe tbody tr th {\n",
       "        vertical-align: top;\n",
       "    }\n",
       "\n",
       "    .dataframe thead th {\n",
       "        text-align: right;\n",
       "    }\n",
       "</style>\n",
       "<table border=\"1\" class=\"dataframe\">\n",
       "  <thead>\n",
       "    <tr style=\"text-align: right;\">\n",
       "      <th></th>\n",
       "      <th>register_month</th>\n",
       "      <th>index_month</th>\n",
       "      <th>usres</th>\n",
       "      <th>rentation_rate</th>\n",
       "    </tr>\n",
       "  </thead>\n",
       "  <tbody>\n",
       "    <tr>\n",
       "      <th>0</th>\n",
       "      <td>2022-01</td>\n",
       "      <td>2022-02</td>\n",
       "      <td>1343208</td>\n",
       "      <td>99.2300</td>\n",
       "    </tr>\n",
       "    <tr>\n",
       "      <th>1</th>\n",
       "      <td>2022-02</td>\n",
       "      <td>2022-03</td>\n",
       "      <td>926745</td>\n",
       "      <td>67.6463</td>\n",
       "    </tr>\n",
       "    <tr>\n",
       "      <th>2</th>\n",
       "      <td>2022-03</td>\n",
       "      <td>2022-04</td>\n",
       "      <td>557890</td>\n",
       "      <td>37.9759</td>\n",
       "    </tr>\n",
       "    <tr>\n",
       "      <th>3</th>\n",
       "      <td>2022-04</td>\n",
       "      <td>2022-05</td>\n",
       "      <td>687902</td>\n",
       "      <td>42.9759</td>\n",
       "    </tr>\n",
       "  </tbody>\n",
       "</table>\n",
       "</div>"
      ],
      "text/plain": [
       "  register_month index_month    usres  rentation_rate\n",
       "0        2022-01     2022-02  1343208         99.2300\n",
       "1        2022-02     2022-03   926745         67.6463\n",
       "2        2022-03     2022-04   557890         37.9759\n",
       "3        2022-04     2022-05   687902         42.9759"
      ]
     },
     "execution_count": 85,
     "metadata": {},
     "output_type": "execute_result"
    }
   ],
   "source": [
    "query='''\n",
    "WITH interval(period) AS(\n",
    "    SELECT 1\n",
    "    UNION ALL SELECT 2 \n",
    "    UNION ALL SELECT 3\n",
    "    UNION ALL SELECT 4\n",
    "    UNION ALL SELECT 5\n",
    "    UNION ALL SELECT 6\n",
    "    UNION ALL SELECT 7\n",
    "    UNION ALL SELECT 8\n",
    "    UNION ALL SELECT 9\n",
    "    UNION ALL SELECT 10\n",
    "    UNION ALL SELECT 11\n",
    "    UNION ALL SELECT 12)\n",
    ",index_info AS(\n",
    "     SELECT m.user_id,\n",
    "            SUBSTRING(register_date,1,7) AS register_month,\n",
    "            SUBSTRING(CAST(ADD_MONTHS(SUBSTRING(register_date,1,7),r.period) AS STRING),1,7) AS index_month\n",
    "     FROM merged AS m\n",
    "     CROSS JOIN interval AS r)\n",
    ",login_track AS(\n",
    "   SELECT DISTINCT user_id,\n",
    "          SUBSTRING(login_timestamp,1,7)AS action_month\n",
    "          FROM merged)\n",
    "  SELECT i.register_month,\n",
    "         i.index_month,\n",
    "         SUM(CASE WHEN action_month IS NOT NULL THEN 1 ELSE 0 END) AS users,\n",
    "         AVG(CASE WHEN action_month IS NOT NULL THEN 1 ELSE 0 END)*100 AS rentation_rate\n",
    "  FROM index_info AS i\n",
    "  LEFT JOIN login_track AS t\n",
    "  ON i.user_id=t.user_id and  i.index_month=t.action_month\n",
    "  GROUP BY i.register_month,i.index_month\n",
    "'''\n",
    "\n",
    "print_(query)"
   ]
  },
  {
   "cell_type": "code",
   "execution_count": 95,
   "id": "fa67aacf",
   "metadata": {},
   "outputs": [
    {
     "name": "stdout",
     "output_type": "stream",
     "text": [
      "root\n",
      " |-- user_id: string (nullable = true)\n",
      " |-- short_session: string (nullable = true)\n",
      " |-- long_session: string (nullable = true)\n",
      " |-- url: string (nullable = true)\n",
      " |-- path: string (nullable = true)\n",
      " |-- action: string (nullable = true)\n",
      " |-- amount: double (nullable = true)\n",
      " |-- product_code: string (nullable = true)\n",
      " |-- time_stamp: string (nullable = true)\n",
      " |-- sex: string (nullable = true)\n",
      " |-- grade: string (nullable = true)\n",
      " |-- weekly_study_hours: double (nullable = true)\n",
      " |-- daily_study_hours: double (nullable = true)\n",
      " |-- is_online: long (nullable = true)\n",
      " |-- off_line_numbers: long (nullable = true)\n",
      " |-- satisfaction_last: long (nullable = true)\n",
      " |-- no_interest: long (nullable = true)\n",
      " |-- no_prize: long (nullable = true)\n",
      " |-- no_competitions: long (nullable = true)\n",
      " |-- age: long (nullable = true)\n",
      " |-- register_date: string (nullable = true)\n",
      " |-- login_timestamp: string (nullable = true)\n",
      " |-- logout_timestamp: string (nullable = true)\n",
      " |-- device: string (nullable = true)\n",
      "\n"
     ]
    }
   ],
   "source": [
    "merged_tb.printSchema()"
   ]
  },
  {
   "cell_type": "code",
   "execution_count": null,
   "id": "98a7c89a",
   "metadata": {},
   "outputs": [],
   "source": []
  }
 ],
 "metadata": {
  "kernelspec": {
   "display_name": "Python 3 (ipykernel)",
   "language": "python",
   "name": "python3"
  },
  "language_info": {
   "codemirror_mode": {
    "name": "ipython",
    "version": 3
   },
   "file_extension": ".py",
   "mimetype": "text/x-python",
   "name": "python",
   "nbconvert_exporter": "python",
   "pygments_lexer": "ipython3",
   "version": "3.8.12"
  }
 },
 "nbformat": 4,
 "nbformat_minor": 5
}
